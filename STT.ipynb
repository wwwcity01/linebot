{
 "cells": [
  {
   "cell_type": "code",
   "execution_count": 1,
   "id": "f2fb7983-5dac-49df-b189-2942d5927be3",
   "metadata": {},
   "outputs": [
    {
     "name": "stdout",
     "output_type": "stream",
     "text": [
      "Running on local URL:  http://127.0.0.1:7860\n",
      "Running on public URL: https://1ed301ca613d5d1fd9.gradio.live\n",
      "\n",
      "This share link expires in 72 hours. For free permanent hosting and GPU upgrades, run `gradio deploy` from Terminal to deploy to Spaces (https://huggingface.co/spaces)\n"
     ]
    },
    {
     "data": {
      "text/html": [
       "<div><iframe src=\"https://1ed301ca613d5d1fd9.gradio.live\" width=\"100%\" height=\"500\" allow=\"autoplay; camera; microphone; clipboard-read; clipboard-write;\" frameborder=\"0\" allowfullscreen></iframe></div>"
      ],
      "text/plain": [
       "<IPython.core.display.HTML object>"
      ]
     },
     "metadata": {},
     "output_type": "display_data"
    },
    {
     "data": {
      "text/plain": []
     },
     "execution_count": 1,
     "metadata": {},
     "output_type": "execute_result"
    }
   ],
   "source": [
    "import gradio as gr\n",
    "import requests\n",
    "def transcribe_audio_gradio(audio):\n",
    "    # 如果音訊檔案未正確上傳，回傳錯誤訊息\n",
    "    if audio is None:\n",
    "        return \"音訊檔案未正確上傳。請再試一次。\"\n",
    "    \n",
    "    # 將音訊檔案上傳到 Flask API\n",
    "    # 這裡我們使用 HTTP POST 請求，並將音訊檔案作為表單數據的一部分上傳\n",
    "    with open(audio, \"rb\") as f:\n",
    "        response = requests.post(\"http://127.0.0.1:8080/transcribe\", files={\"file\": f})\n",
    "    \n",
    "    # 如果請求成功並且回覆狀態碼為 200，則從回覆的json中提取逐字稿內容\n",
    "    if response.status_code == 200:\n",
    "        return response.json().get(\"transcription\", \"未能辨識出逐字稿。\")\n",
    "    else:\n",
    "        # 如果請求失敗或回覆其他狀態碼，返回錯誤訊息\n",
    "        return f\"發生錯誤: {response.json().get('error', '未知錯誤')}\"\n",
    "# 建立 Gradio 介面\n",
    "# fn 參數設定為處理音訊轉逐字稿的函數 transcribe_audio_gradio\n",
    "# inputs 設定為音訊檔案的上傳文件，type 設為 \"filepath\" 表示上傳文件的路徑\n",
    "# outputs 設定為顯示轉逐字稿結果的內容輸出\n",
    "# title 和 description 用來設定介面的標題和描述\n",
    "iface = gr.Interface(\n",
    "    fn=transcribe_audio_gradio,\n",
    "    inputs=gr.Audio(type=\"filepath\"),\n",
    "    outputs=\"text\",\n",
    "    title=\"繁體中文語音辨識 API 測試\",\n",
    "    description=\"上傳音訊檔案以進行 Whisper API 的語音轉逐字稿服務\",\n",
    ")\n",
    "# 啟動 Gradio 介面並提供外部連結(72 hrs)\n",
    "# share=True 參數允許生成一個外部可訪問的連結，用於分享和測試\n",
    "iface.launch(share=True)"
   ]
  },
  {
   "cell_type": "code",
   "execution_count": null,
   "id": "74e3ba5a-9e2c-4310-8185-1d08537078cb",
   "metadata": {},
   "outputs": [],
   "source": []
  }
 ],
 "metadata": {
  "kernelspec": {
   "display_name": "Python 3 (ipykernel)",
   "language": "python",
   "name": "python3"
  },
  "language_info": {
   "codemirror_mode": {
    "name": "ipython",
    "version": 3
   },
   "file_extension": ".py",
   "mimetype": "text/x-python",
   "name": "python",
   "nbconvert_exporter": "python",
   "pygments_lexer": "ipython3",
   "version": "3.11.9"
  }
 },
 "nbformat": 4,
 "nbformat_minor": 5
}
